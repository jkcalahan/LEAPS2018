{
 "cells": [
  {
   "cell_type": "code",
   "execution_count": 77,
   "metadata": {},
   "outputs": [],
   "source": [
    "filename='./ALMAfiles/L1541N_N2H+_ALMA_all.dat'\n",
    "file = open(filename,'r')"
   ]
  },
  {
   "cell_type": "code",
   "execution_count": 78,
   "metadata": {},
   "outputs": [],
   "source": [
    "import numpy as np\n",
    "data=np.genfromtxt(filename,dtype=None,names=True)"
   ]
  },
  {
   "cell_type": "code",
   "execution_count": 79,
   "metadata": {},
   "outputs": [],
   "source": [
    "#Area=data['AREA']\n",
    "#W=data['FWHM']\n",
    "#vel=data['VEL']\n",
    "\n",
    "RA=data['RA']\n",
    "DEC=data['DEC']\n",
    "B=data['BASELINE'] \n",
    "\n",
    "Tant=data['Tant'] \n",
    "Tant_err=data['Tant_err']\n",
    "vel=data['vlsr']\n",
    "vel_err=data['vlsr_err']\n",
    "sigv=data['deltaV']\n",
    "sigv_err=data['deltaV_err']\n",
    "Tmain=data['Tau']\n",
    "Tmain_err=data['Tau_err']\n",
    "#RA DEC Tant Taint_err vlsr vlst_err deltaV deltaV_err Tau Tau_err BASELINE"
   ]
  },
  {
   "cell_type": "code",
   "execution_count": null,
   "metadata": {},
   "outputs": [],
   "source": [
    "#for HNC\n",
    "T=(Area/(np.sqrt(2*np.pi)))*(2.3555/W)"
   ]
  },
  {
   "cell_type": "code",
   "execution_count": 80,
   "metadata": {},
   "outputs": [],
   "source": [
    "#for N2H+\n",
    "T=(Tant/Tmain)*(1-np.exp(-Tmain))"
   ]
  },
  {
   "cell_type": "code",
   "execution_count": 81,
   "metadata": {},
   "outputs": [
    {
     "data": {
      "text/plain": [
       "'\\nfor i in range(len(RA)):\\n    if vel_err[i] < .05 and sigv_err[i] <.05 and vel_err[i]!=0:\\n        RA_good.append(RA[i])\\n        DEC_good.append(DEC[i])\\n        vel_good.append(vel[i])\\n'"
      ]
     },
     "execution_count": 81,
     "metadata": {},
     "output_type": "execute_result"
    }
   ],
   "source": [
    "RA_good=[]\n",
    "DEC_good=[]\n",
    "vel_good=[]\n",
    "\n",
    "for i in range(len(RA)):\n",
    "    if T[i] > 4*B[i] and Tmain[i] > .101:\n",
    "        RA_good.append(RA[i])\n",
    "        DEC_good.append(DEC[i])\n",
    "        vel_good.append(vel[i])\n",
    "'''\n",
    "for i in range(len(RA)):\n",
    "    if vel_err[i] < .05 and sigv_err[i] <.05 and vel_err[i]!=0:\n",
    "        RA_good.append(RA[i])\n",
    "        DEC_good.append(DEC[i])\n",
    "        vel_good.append(vel[i])\n",
    "'''        \n",
    "#if Imax[i] >= 3*B[i]:"
   ]
  },
  {
   "cell_type": "code",
   "execution_count": 82,
   "metadata": {},
   "outputs": [],
   "source": [
    "data2= np.array([RA_good,DEC_good,vel_good])\n",
    "data = data.T\n",
    "\n",
    "f = open('./ALMAfiles/V380_N2H+_ALMA_4sig.txt','w')\n",
    "f.write('RA DEC VEL \\n')\n",
    "for i in range(len(RA_good)):\n",
    "    f.write(\"%.5f %.5f %.5f\\n\" % (RA_good[i],DEC_good[i],vel_good[i]))\n",
    "    \n",
    "f.close()"
   ]
  },
  {
   "cell_type": "code",
   "execution_count": null,
   "metadata": {},
   "outputs": [],
   "source": []
  },
  {
   "cell_type": "code",
   "execution_count": null,
   "metadata": {},
   "outputs": [],
   "source": []
  }
 ],
 "metadata": {
  "kernelspec": {
   "display_name": "Python 3",
   "language": "python",
   "name": "python3"
  },
  "language_info": {
   "codemirror_mode": {
    "name": "ipython",
    "version": 3
   },
   "file_extension": ".py",
   "mimetype": "text/x-python",
   "name": "python",
   "nbconvert_exporter": "python",
   "pygments_lexer": "ipython3",
   "version": "3.6.6"
  }
 },
 "nbformat": 4,
 "nbformat_minor": 2
}
